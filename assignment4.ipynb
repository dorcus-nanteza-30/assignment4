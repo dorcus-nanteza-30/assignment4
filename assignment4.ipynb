{
 "cells": [
  {
   "cell_type": "markdown",
   "metadata": {},
   "source": [
    "Exercise 5"
   ]
  },
  {
   "cell_type": "code",
   "execution_count": 23,
   "metadata": {},
   "outputs": [
    {
     "name": "stdout",
     "output_type": "stream",
     "text": [
      "30.47623105890155\n"
     ]
    }
   ],
   "source": [
    "#standard deviation\n",
    "import numpy as np\n",
    "height_array = [177.8,157.48,185.42,185.42,175.26,175.26,157.48,167.64,154.94,162.56,175.26,172.72,188.42,165.1,175.26,175.26,160.02,162.56,101.6,162.56,93.98,165.1,63.5,101.6,170.18,175.26,137.16,165.1,157.48,104.14]\n",
    "height_array = np.std(height_array)\n",
    "print(height_array)"
   ]
  },
  {
   "cell_type": "code",
   "execution_count": 22,
   "metadata": {},
   "outputs": [
    {
     "name": "stdout",
     "output_type": "stream",
     "text": [
      "928.8006595555555\n"
     ]
    }
   ],
   "source": [
    "#variance\n",
    "import numpy as np\n",
    "height_array = [177.8,157.48,185.42,185.42,175.26,175.26,157.48,167.64,154.94,162.56,175.26,172.72,188.42,165.1,175.26,175.26,160.02,162.56,101.6,162.56,93.98,165.1,63.5,101.6,170.18,175.26,137.16,165.1,157.48,104.14]\n",
    "height_array = np.var(height_array)\n",
    "print(height_array)"
   ]
  },
  {
   "cell_type": "code",
   "execution_count": 18,
   "metadata": {},
   "outputs": [
    {
     "name": "stdout",
     "output_type": "stream",
     "text": [
      "155.71733333333333\n"
     ]
    }
   ],
   "source": [
    "#mean\n",
    "import numpy as np\n",
    "height_array = [177.8,157.48,185.42,185.42,175.26,175.26,157.48,167.64,154.94,162.56,175.26,172.72,188.42,165.1,175.26,175.26,160.02,162.56,101.6,162.56,93.98,165.1,63.5,101.6,170.18,175.26,137.16,165.1,157.48,104.14]\n",
    "height_array = np.mean(height_array)\n",
    "print(height_array)"
   ]
  },
  {
   "cell_type": "code",
   "execution_count": 34,
   "metadata": {},
   "outputs": [],
   "source": [
    "height_array =[177.8,157.48,185.42,185.42,175.26,175.26,157.48,167.64,154.94,162.56,175.26,172.72,188.42,165.1,175.26,175.26,160.02,162.56,101.6,162.56,93.98,165.1,63.5,101.6,170.18,175.26,137.16,165.1,157.48,104.14] "
   ]
  },
  {
   "cell_type": "code",
   "execution_count": 25,
   "metadata": {},
   "outputs": [],
   "source": [
    "#list3\n",
    "height = [177.8,157.48,185.42,185.42,175.26,175.26,157.48,167.64,154.94,162.56,175.26,172.72,188.42,165.1,175.26,175.26,160.02,162.56,101.6,162.56,93.98,165.1,63.5,101.6,170.18,175.26,137.16,165.1,157.48,104.14]"
   ]
  },
  {
   "cell_type": "code",
   "execution_count": 21,
   "metadata": {},
   "outputs": [
    {
     "name": "stdout",
     "output_type": "stream",
     "text": [
      "10.494442973942606\n"
     ]
    }
   ],
   "source": [
    "#standard deviation\n",
    "import numpy as np\n",
    "weight_array = [74,47,54,30,59,65,69,57,55,78,60,80,58,50,50,50,49,70,62,55,55,60,45,70,55,67,67,64,50,65]\n",
    "weight_array = np.std(weight_array)\n",
    "print(weight_array)"
   ]
  },
  {
   "cell_type": "code",
   "execution_count": 20,
   "metadata": {},
   "outputs": [
    {
     "name": "stdout",
     "output_type": "stream",
     "text": [
      "110.13333333333334\n"
     ]
    }
   ],
   "source": [
    "#variance\n",
    "import numpy as np\n",
    "weight_array = [74,47,54,30,59,65,69,57,55,78,60,80,58,50,50,50,49,70,62,55,55,60,45,70,55,67,67,64,50,65]\n",
    "weight_array = np.var(weight_array)\n",
    "print(weight_array)"
   ]
  },
  {
   "cell_type": "code",
   "execution_count": 19,
   "metadata": {},
   "outputs": [
    {
     "name": "stdout",
     "output_type": "stream",
     "text": [
      "59.0\n"
     ]
    }
   ],
   "source": [
    "#mean\n",
    "import numpy as np\n",
    "weight_array = [74,47,54,30,59,65,69,57,55,78,60,80,58,50,50,50,49,70,62,55,55,60,45,70,55,67,67,64,50,65]\n",
    "weight_array = np.mean(weight_array)\n",
    "print(weight_array)\n"
   ]
  },
  {
   "cell_type": "code",
   "execution_count": 11,
   "metadata": {},
   "outputs": [
    {
     "name": "stdout",
     "output_type": "stream",
     "text": [
      "[74, 47, 54, 30, 59, 65, 69, 57, 55, 78, 60, 80, 58, 50, 50, 50, 49, 70, 62, 55, 55, 60, 45, 70, 55, 67, 67, 64, 50, 65]\n"
     ]
    }
   ],
   "source": [
    "weight_array = [74,47,54,30,59,65,69,57,55,78,60,80,58,50,50,50,49,70,62,55,55,60,45,70,55,67,67,64,50,65]\n",
    "print(weight_array)"
   ]
  },
  {
   "cell_type": "code",
   "execution_count": 7,
   "metadata": {},
   "outputs": [
    {
     "name": "stdout",
     "output_type": "stream",
     "text": [
      "[74, 47, 54, 30, 59, 65, 69, 57, 55, 78, 60, 80, 58, 50, 50, 50, 49, 70, 62, 55, 55, 60, 45, 70, 55, 67, 67, 64, 50, 65]\n"
     ]
    }
   ],
   "source": [
    "#list2\n",
    "weight = [74,47,54,30,59,65,69,57,55,78,60,80,58,50,50,50,49,70,62,55,55,60,45,70,55,67,67,64,50,65]\n",
    "print(weight)"
   ]
  },
  {
   "cell_type": "code",
   "execution_count": 29,
   "metadata": {},
   "outputs": [
    {
     "name": "stdout",
     "output_type": "stream",
     "text": [
      "2.780087928265739\n"
     ]
    }
   ],
   "source": [
    "#standard deviation\n",
    "import numpy as np\n",
    "age_array =  [20,27,21,23,19,24,21,19,19,22,25,27,21,19,21,21,20,23,20,20,27,23,21,19,20,22,21,23,20,30]\n",
    "age_array = np.std(age_array)\n",
    "print(age_array)\n"
   ]
  },
  {
   "cell_type": "code",
   "execution_count": 28,
   "metadata": {},
   "outputs": [
    {
     "name": "stdout",
     "output_type": "stream",
     "text": [
      "7.728888888888889\n"
     ]
    }
   ],
   "source": [
    "#variance\n",
    "import numpy as np\n",
    "age_array =  [20,27,21,23,19,24,21,19,19,22,25,27,21,19,21,21,20,23,20,20,27,23,21,19,20,22,21,23,20,30]\n",
    "age_array = np.var(age_array)\n",
    "print(age_array)"
   ]
  },
  {
   "cell_type": "code",
   "execution_count": 27,
   "metadata": {},
   "outputs": [
    {
     "name": "stdout",
     "output_type": "stream",
     "text": [
      "21.933333333333334\n"
     ]
    }
   ],
   "source": [
    "#mean\n",
    "import numpy as np\n",
    "age_array =  [20,27,21,23,19,24,21,19,19,22,25,27,21,19,21,21,20,23,20,20,27,23,21,19,20,22,21,23,20,30]\n",
    "age_array = np.mean(age_array)\n",
    "print(age_array)"
   ]
  },
  {
   "cell_type": "code",
   "execution_count": 30,
   "metadata": {},
   "outputs": [],
   "source": [
    "age_array =  [20,27,21,23,19,24,21,19,19,22,25,27,21,19,21,21,20,23,20,20,27,23,21,19,20,22,21,23,20,30]"
   ]
  },
  {
   "cell_type": "code",
   "execution_count": 31,
   "metadata": {},
   "outputs": [],
   "source": [
    "#list1\n",
    "age = [20,27,21,23,19,24,21,19,19,22,25,27,21,19,21,21,20,23,20,20,27,23,21,19,20,22,21,23,20,30]"
   ]
  }
 ],
 "metadata": {
  "kernelspec": {
   "display_name": "Python 3",
   "language": "python",
   "name": "python3"
  },
  "language_info": {
   "codemirror_mode": {
    "name": "ipython",
    "version": 3
   },
   "file_extension": ".py",
   "mimetype": "text/x-python",
   "name": "python",
   "nbconvert_exporter": "python",
   "pygments_lexer": "ipython3",
   "version": "3.11.4"
  },
  "orig_nbformat": 4
 },
 "nbformat": 4,
 "nbformat_minor": 2
}
